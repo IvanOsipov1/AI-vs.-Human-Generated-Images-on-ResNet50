{
 "cells": [
  {
   "cell_type": "code",
   "execution_count": 1,
   "id": "4517d028-6fd9-4b07-9a2b-91c80c2905f2",
   "metadata": {},
   "outputs": [],
   "source": [
    "import os\n",
    "import numpy as np\n",
    "import torchvision\n",
    "import matplotlib.pyplot as plt\n",
    "import torch.utils.data as data\n",
    "import json\n",
    "import torchvision.transforms.v2 as tfs\n",
    "import torch\n",
    "import torch.nn as nn\n",
    "import torch.optim as optim\n",
    "import torch.nn.functional as F\n",
    "import kaggle\n",
    "import pandas as pd\n",
    "import shutil\n",
    "import time\n",
    "\n",
    "from tensorflow.keras.datasets import mnist\n",
    "from PIL import Image\n",
    "from sklearn.model_selection import train_test_split\n",
    "from tqdm import tqdm\n",
    "from torchvision.datasets import ImageFolder\n",
    "from torchvision import models\n",
    "from torchvision.models import resnet50, ResNet50_Weights\n",
    "from torch.utils.data import DataLoader"
   ]
  },
  {
   "cell_type": "code",
   "execution_count": 2,
   "id": "29e125da-f5a4-4ed1-bf3c-f31c23d1ee55",
   "metadata": {},
   "outputs": [
    {
     "data": {
      "text/plain": [
       "1"
      ]
     },
     "execution_count": 2,
     "metadata": {},
     "output_type": "execute_result"
    }
   ],
   "source": [
    "1"
   ]
  },
  {
   "cell_type": "code",
   "execution_count": 54,
   "id": "db7e4943-3f1f-409e-b20b-6e127b09f280",
   "metadata": {},
   "outputs": [
    {
     "name": "stderr",
     "output_type": "stream",
     "text": [
      "C:\\Users\\ivan2\\AppData\\Local\\Temp\\ipykernel_18396\\3146484978.py:1: FutureWarning: DataFrame.applymap has been deprecated. Use DataFrame.map instead.\n",
      "  train_csv = train_csv.applymap(lambda x: x.replace(\"train_data/\", \"\") if isinstance(x, str) else x)\n"
     ]
    }
   ],
   "source": [
    "train_csv = train_csv.applymap(lambda x: x.replace(\"train_data/\", \"\") if isinstance(x, str) else x)"
   ]
  },
  {
   "cell_type": "code",
   "execution_count": 60,
   "id": "d0cdbc1e-c1ef-4f61-bb96-b46c7e28b003",
   "metadata": {},
   "outputs": [],
   "source": [
    "train_csv.to_csv(\"dataset/train.csv\", index=False)"
   ]
  },
  {
   "cell_type": "code",
   "execution_count": 3,
   "id": "d4640d9a-eb9f-4fac-abbd-29567081bf15",
   "metadata": {},
   "outputs": [
    {
     "name": "stdout",
     "output_type": "stream",
     "text": [
      "                              file_name  label\n",
      "0  a6dcb93f596a43249135678dfcfc17ea.jpg      1\n",
      "1  041be3153810433ab146bc97d5af505c.jpg      0\n",
      "2  615df26ce9494e5db2f70e57ce7a3a4f.jpg      1\n",
      "3  8542fe161d9147be8e835e50c0de39cd.jpg      0\n",
      "4  5d81fa12bc3b4cea8c94a6700a477cf2.jpg      1\n",
      "Index(['file_name', 'label'], dtype='object')\n"
     ]
    }
   ],
   "source": [
    "df = pd.read_csv('dataset/train.csv')\n",
    "df = df[[\"file_name\", \"label\"]] \n",
    "print(df.head())\n",
    "print(df.columns)"
   ]
  },
  {
   "cell_type": "code",
   "execution_count": 5,
   "id": "a20e24f1-c3b2-4a5b-a704-ce7846ed5d70",
   "metadata": {},
   "outputs": [],
   "source": [
    "csv_file = \"dataset/train.csv\"\n",
    "root_dir = \"dataset\""
   ]
  },
  {
   "cell_type": "code",
   "execution_count": 75,
   "id": "e4cd5ea3-834d-43f5-93c2-d8dcaf1ba12a",
   "metadata": {},
   "outputs": [],
   "source": [
    "train_df, temp_df = train_test_split(df, test_size=0.2, random_state=42)"
   ]
  },
  {
   "cell_type": "code",
   "execution_count": 83,
   "id": "877e5d30-0da1-4e52-ba4d-66f359d255f1",
   "metadata": {},
   "outputs": [
    {
     "data": {
      "text/html": [
       "<div>\n",
       "<style scoped>\n",
       "    .dataframe tbody tr th:only-of-type {\n",
       "        vertical-align: middle;\n",
       "    }\n",
       "\n",
       "    .dataframe tbody tr th {\n",
       "        vertical-align: top;\n",
       "    }\n",
       "\n",
       "    .dataframe thead th {\n",
       "        text-align: right;\n",
       "    }\n",
       "</style>\n",
       "<table border=\"1\" class=\"dataframe\">\n",
       "  <thead>\n",
       "    <tr style=\"text-align: right;\">\n",
       "      <th></th>\n",
       "      <th>file_name</th>\n",
       "      <th>label</th>\n",
       "    </tr>\n",
       "  </thead>\n",
       "  <tbody>\n",
       "    <tr>\n",
       "      <th>2530</th>\n",
       "      <td>151ffbe4618645c587112e218a1f6587.jpg</td>\n",
       "      <td>1</td>\n",
       "    </tr>\n",
       "    <tr>\n",
       "      <th>11128</th>\n",
       "      <td>5922e1ec46224e67aba3500f6f076e7b.jpg</td>\n",
       "      <td>1</td>\n",
       "    </tr>\n",
       "    <tr>\n",
       "      <th>70752</th>\n",
       "      <td>fa1c148c50904732a813053c8512d4dc.jpg</td>\n",
       "      <td>1</td>\n",
       "    </tr>\n",
       "    <tr>\n",
       "      <th>44211</th>\n",
       "      <td>134e3edd55ca49669d9fff82f05f9a53.jpg</td>\n",
       "      <td>0</td>\n",
       "    </tr>\n",
       "    <tr>\n",
       "      <th>75666</th>\n",
       "      <td>95fee4af52224a8d8468b12f3fbbb343.jpg</td>\n",
       "      <td>1</td>\n",
       "    </tr>\n",
       "  </tbody>\n",
       "</table>\n",
       "</div>"
      ],
      "text/plain": [
       "                                  file_name  label\n",
       "2530   151ffbe4618645c587112e218a1f6587.jpg      1\n",
       "11128  5922e1ec46224e67aba3500f6f076e7b.jpg      1\n",
       "70752  fa1c148c50904732a813053c8512d4dc.jpg      1\n",
       "44211  134e3edd55ca49669d9fff82f05f9a53.jpg      0\n",
       "75666  95fee4af52224a8d8468b12f3fbbb343.jpg      1"
      ]
     },
     "execution_count": 83,
     "metadata": {},
     "output_type": "execute_result"
    }
   ],
   "source": [
    "train_df.head()"
   ]
  },
  {
   "cell_type": "code",
   "execution_count": 76,
   "id": "89e437c6-cadb-4cef-b8f3-115423869e02",
   "metadata": {},
   "outputs": [],
   "source": [
    "val_df, test_df = train_test_split(temp_df, test_size=0.5, random_state=42)"
   ]
  },
  {
   "cell_type": "code",
   "execution_count": 77,
   "id": "2a585334-4410-45df-b4b3-f45179649c98",
   "metadata": {},
   "outputs": [
    {
     "name": "stdout",
     "output_type": "stream",
     "text": [
      "Тренировочных данных: 63960\n",
      "Валидационных данных: 7995\n",
      "Тестовых данных: 7995\n"
     ]
    }
   ],
   "source": [
    "print(f\"Тренировочных данных: {len(train_df)}\")\n",
    "print(f\"Валидационных данных: {len(val_df)}\")\n",
    "print(f\"Тестовых данных: {len(test_df)}\")"
   ]
  },
  {
   "cell_type": "code",
   "execution_count": 95,
   "id": "00c00360-4570-4914-ad7d-ef70247b90d4",
   "metadata": {},
   "outputs": [],
   "source": [
    "def data_distribution(df: pd.DataFrame, source_path: str, target_path: str):\n",
    "    for file_name, target in df[['file_name', 'label']].values:\n",
    "        shutil.move(os.path.join(source_path, file_name), os.path.join(target_path,f\"class_{target}\", file_name))\n",
    "    print(f\"Данные перемещены в {target_path}\")\n",
    "    "
   ]
  },
  {
   "cell_type": "code",
   "execution_count": 96,
   "id": "2e5f00c3-a31e-437d-9625-b8c5a1173333",
   "metadata": {},
   "outputs": [
    {
     "name": "stdout",
     "output_type": "stream",
     "text": [
      "Данные перемещены в dataset/train_data/\n"
     ]
    }
   ],
   "source": [
    "data_distribution(train_df, 'dataset/all_data/', 'dataset/train_data/')"
   ]
  },
  {
   "cell_type": "code",
   "execution_count": 97,
   "id": "8988beac-490a-456b-a934-c858d9189a8c",
   "metadata": {},
   "outputs": [
    {
     "name": "stdout",
     "output_type": "stream",
     "text": [
      "Данные перемещены в dataset/val_data/\n"
     ]
    }
   ],
   "source": [
    "data_distribution(val_df, 'dataset/all_data/', 'dataset/val_data/')"
   ]
  },
  {
   "cell_type": "code",
   "execution_count": 98,
   "id": "737238ae-e9dc-4b73-aa68-ae84683f1ba5",
   "metadata": {},
   "outputs": [
    {
     "name": "stdout",
     "output_type": "stream",
     "text": [
      "Данные перемещены в dataset/test_data/\n"
     ]
    }
   ],
   "source": [
    "data_distribution(test_df, 'dataset/all_data/', 'dataset/test_data/')"
   ]
  },
  {
   "cell_type": "code",
   "execution_count": 5,
   "id": "3e650c74-41cf-4cc7-bc85-b23e9000893f",
   "metadata": {},
   "outputs": [
    {
     "name": "stderr",
     "output_type": "stream",
     "text": [
      "C:\\Users\\ivan2\\anaconda3\\Lib\\site-packages\\torchvision\\transforms\\v2\\_deprecated.py:42: UserWarning: The transform `ToTensor()` is deprecated and will be removed in a future release. Instead, please use `v2.Compose([v2.ToImage(), v2.ToDtype(torch.float32, scale=True)])`.Output is equivalent up to float precision.\n",
      "  warnings.warn(\n"
     ]
    }
   ],
   "source": [
    "train_transforms = tfs.Compose([\n",
    "    tfs.RandomResizedCrop(224), \n",
    "    tfs.RandomHorizontalFlip(p=0.5),\n",
    "    tfs.RandomRotation(15),\n",
    "    tfs.ColorJitter(brightness=0.2, contrast=0.2, saturation=0.2, hue=0.1),\n",
    "    tfs.ToTensor(),\n",
    "    tfs.Normalize(mean=[0.485, 0.456, 0.406], std=[0.229, 0.224, 0.225])  # Нормализация (значения для ImageNet)\n",
    "])"
   ]
  },
  {
   "cell_type": "code",
   "execution_count": 3,
   "id": "42a86013-7e9f-4675-b735-327a362922c3",
   "metadata": {},
   "outputs": [
    {
     "name": "stderr",
     "output_type": "stream",
     "text": [
      "C:\\Users\\ivan2\\anaconda3\\Lib\\site-packages\\torchvision\\transforms\\v2\\_deprecated.py:42: UserWarning: The transform `ToTensor()` is deprecated and will be removed in a future release. Instead, please use `v2.Compose([v2.ToImage(), v2.ToDtype(torch.float32, scale=True)])`.Output is equivalent up to float precision.\n",
      "  warnings.warn(\n"
     ]
    }
   ],
   "source": [
    "transforms = tfs.Compose([\n",
    "    tfs.Resize((224, 224)),        \n",
    "    tfs.ToTensor(),\n",
    "    tfs.Normalize(mean=[0.485, 0.456, 0.406], std=[0.229, 0.224, 0.225])  # Нормализация\n",
    "])"
   ]
  },
  {
   "cell_type": "code",
   "execution_count": 4,
   "id": "2e2b2f5c-42f7-4a55-8653-bcb0e4f15ab9",
   "metadata": {},
   "outputs": [],
   "source": [
    "class CustomImageDataset(data.Dataset):\n",
    "    def __init__(self, root_dir, transform=None):\n",
    "        self.root_dir = root_dir\n",
    "        self.transform = transform\n",
    "        self.samples = []\n",
    "        \n",
    "        for folder_name in os.listdir(root_dir):\n",
    "            folder_path = os.path.join(root_dir, folder_name)\n",
    "            \n",
    "            if not os.path.isdir(folder_path):\n",
    "                continue\n",
    "            \n",
    "            if folder_name == \"class_0\":\n",
    "                label = 0\n",
    "            elif folder_name == \"class_1\":\n",
    "                label = 1\n",
    "            else:\n",
    "                continue\n",
    "            \n",
    "            for file_name in os.listdir(folder_path):\n",
    "                if file_name.lower().endswith(('.jpg', '.jpeg', '.png')):\n",
    "                    img_path = os.path.join(folder_path, file_name)\n",
    "                    self.samples.append((img_path, label))\n",
    "\n",
    "    def __len__(self):\n",
    "        return len(self.samples)\n",
    "\n",
    "    def __getitem__(self, idx):\n",
    "        img_path, label = self.samples[idx]\n",
    "        image = Image.open(img_path).convert(\"RGB\")\n",
    "        if self.transform:\n",
    "            image = self.transform(image)\n",
    "        \n",
    "        return image, label\n"
   ]
  },
  {
   "cell_type": "code",
   "execution_count": 5,
   "id": "18d53b62-d917-4e08-b74f-ab1953578127",
   "metadata": {},
   "outputs": [],
   "source": [
    "train_data_dir = \"dataset/train_data\"\n",
    "val_data_dir = \"dataset/val_data\"\n",
    "test_data_dir = \"dataset/test_data\""
   ]
  },
  {
   "cell_type": "code",
   "execution_count": 6,
   "id": "304e5564-5b2f-4a6d-af63-1bf6e7660365",
   "metadata": {},
   "outputs": [],
   "source": [
    "train_dataset = CustomImageDataset(root_dir=train_data_dir, transform=transforms)"
   ]
  },
  {
   "cell_type": "code",
   "execution_count": 7,
   "id": "73cb1e8d-5a6a-4d44-a81f-50344e0cf02a",
   "metadata": {},
   "outputs": [
    {
     "data": {
      "text/plain": [
       "63960"
      ]
     },
     "execution_count": 7,
     "metadata": {},
     "output_type": "execute_result"
    }
   ],
   "source": [
    "len(train_dataset)"
   ]
  },
  {
   "cell_type": "code",
   "execution_count": 8,
   "id": "3d91af0f-825d-4646-a83d-253e5a1bc72e",
   "metadata": {},
   "outputs": [
    {
     "data": {
      "text/plain": [
       "7995"
      ]
     },
     "execution_count": 8,
     "metadata": {},
     "output_type": "execute_result"
    }
   ],
   "source": [
    "val_dataset = CustomImageDataset(root_dir=val_data_dir, transform=transforms)\n",
    "len(val_dataset)"
   ]
  },
  {
   "cell_type": "code",
   "execution_count": 9,
   "id": "c6a0a1a0-3e0d-4a15-9c00-a507542394a3",
   "metadata": {},
   "outputs": [
    {
     "data": {
      "text/plain": [
       "7995"
      ]
     },
     "execution_count": 9,
     "metadata": {},
     "output_type": "execute_result"
    }
   ],
   "source": [
    "test_dataset = CustomImageDataset(root_dir=test_data_dir, transform=transforms)\n",
    "len(test_dataset)"
   ]
  },
  {
   "cell_type": "code",
   "execution_count": 18,
   "id": "45a47afe-f1c8-40fa-b434-9f5c6392f740",
   "metadata": {},
   "outputs": [],
   "source": [
    "model = resnet50(weights=ResNet50_Weights.DEFAULT)"
   ]
  },
  {
   "cell_type": "code",
   "execution_count": 19,
   "id": "1d1bf3d9-865b-4c44-9e98-6b236bcb72b3",
   "metadata": {},
   "outputs": [],
   "source": [
    "num_features = model.fc.in_features\n",
    "model.fc = nn.Linear(num_features, 2)"
   ]
  },
  {
   "cell_type": "code",
   "execution_count": 30,
   "id": "04410fef-4d4e-4fdc-a0a3-97bb800e2b4e",
   "metadata": {},
   "outputs": [],
   "source": [
    "train_loader = DataLoader(train_dataset, batch_size=16, shuffle=True)"
   ]
  },
  {
   "cell_type": "code",
   "execution_count": 31,
   "id": "338cf1f9-725b-429c-958d-e68a5f320453",
   "metadata": {},
   "outputs": [],
   "source": [
    "val_loader = DataLoader(val_dataset, batch_size=16, shuffle=False)"
   ]
  },
  {
   "cell_type": "code",
   "execution_count": 32,
   "id": "f01fd5f9-cc73-4dc1-80c3-270261566f4c",
   "metadata": {},
   "outputs": [],
   "source": [
    "test_loader = DataLoader(test_dataset, batch_size=16, shuffle=False)"
   ]
  },
  {
   "cell_type": "code",
   "execution_count": 33,
   "id": "fc90cb79-1eb9-4808-a05d-24ff7d931a2e",
   "metadata": {},
   "outputs": [],
   "source": [
    "class Model:\n",
    "    def __init__(self, model: nn.Module, optimizer: optim,\n",
    "                train_loader: data.DataLoader, val_loader: data.DataLoader,\n",
    "                loss_function: nn.Module = nn.CrossEntropyLoss()):\n",
    "        self.model = model\n",
    "        self.optimizer = optimizer\n",
    "        self.train_loader = train_loader\n",
    "        self.val_loader = val_loader\n",
    "        self.device = torch.device('cuda' if torch.cuda.is_available() else 'cpu')\n",
    "        self.model.to(self.device)\n",
    "        self.loss_function = loss_function\n",
    "\n",
    "    \n",
    "    def learn_NN(self, num_epochs: int, patience: int):\n",
    "        best_model_state = None\n",
    "        best_val_loss = float('inf')\n",
    "        patience_counter = 0\n",
    "        \n",
    "        start_time = time.time()\n",
    "        \n",
    "        for epoch in range(num_epochs):\n",
    "            if torch.cuda.is_available():\n",
    "                print(f\"Память перед итерацией: {torch.cuda.memory_allocated() / 1e6} MB\")\n",
    "            torch.cuda.empty_cache()\n",
    "            self.model.train()\n",
    "            train_loss = 0\n",
    "            \n",
    "            train_tqdm = tqdm(self.train_loader, desc=f\"Epoch [{epoch+1}/{num_epochs}] - Train\", leave=False)\n",
    "            for x_train, y_train in train_tqdm:\n",
    "                x_train, y_train = x_train.to(self.device), y_train.to(self.device)\n",
    "                \n",
    "                self.optimizer.zero_grad()\n",
    "                predict = self.model(x_train)\n",
    "                loss = self.loss_function(predict, y_train)\n",
    "                loss.backward()\n",
    "                self.optimizer.step()\n",
    "    \n",
    "                train_loss += loss.item()\n",
    "                train_tqdm.set_postfix(loss=f\"{loss.item():.4f}\")\n",
    "            \n",
    "            train_loss /= len(self.train_loader)\n",
    "            \n",
    "            self.model.eval()\n",
    "            val_loss = 0.0\n",
    "            val_tqdm = tqdm(self.val_loader, desc=f\"Epoch [{epoch+1}/{num_epochs}] - Val  \", leave=False)\n",
    "    \n",
    "            with torch.no_grad():\n",
    "                for x_val, y_val in val_tqdm:\n",
    "                    x_val, y_val = x_val.to(self.device), y_val.to(self.device)\n",
    "                    predict = self.model(x_val)\n",
    "                    loss = self.loss_function(predict, y_val)\n",
    "                    val_loss += loss.item()\n",
    "                    val_tqdm.set_postfix(loss=f\"{loss.item():.4f}\")  # Вывод текущей функции потерь\n",
    "            \n",
    "            val_loss /= len(self.val_loader)\n",
    "            \n",
    "            print(f\"Epoch [{epoch+1}/{num_epochs}] - Train Loss: {train_loss:.4f} | Val Loss: {val_loss:.4f}\")\n",
    "            \n",
    "            if val_loss < best_val_loss:\n",
    "                best_val_loss = val_loss\n",
    "                best_model_state = self.model.state_dict()\n",
    "                torch.save(best_model_state, f\"model_resnet50_best.tar\")\n",
    "                patience_counter = 0\n",
    "            else:\n",
    "                patience_counter += 1\n",
    "                if patience_counter >= patience:\n",
    "                    print(f\"Early stopping на эпохе {epoch+1}. Лучшая вал. ошибка: {best_val_loss:.4f}\")\n",
    "                    break    \n",
    "\n",
    "        if best_model_state is not None:\n",
    "            self.model.load_state_dict(best_model_state)\n",
    "            torch.save(best_model_state, f\"model_resnet50_best.tar\")\n",
    "            print(\"Лучшая модель загружена.\")\n",
    "        \n",
    "        total_time = (time.time() - start_time) / 60  \n",
    "        print(f\"Общее время обучения: {total_time:.2f} минут\")\n",
    "\n",
    "    \n",
    "    def test_NN(self, test_loader: data.DataLoader):\n",
    "        self.model.eval()\n",
    "        test_loss = 0\n",
    "        correct = 0\n",
    "        total = 0\n",
    "        for x_test, y_test in test_loader:\n",
    "            with torch.no_grad():\n",
    "                x_test, y_test = x_test.to(self.device), y_test.to(self.device)\n",
    "                outputs = self.model(x_test)\n",
    "                predictions = torch.argmax(outputs, dim=1)\n",
    "                correct += (predictions == y_test).sum().item()\n",
    "                total += y_test.size(0)\n",
    "        accuracy = correct / total\n",
    "        print(f\"Test Accuracy: {accuracy:.4f}\")\n",
    "\n",
    "    \n",
    "    def __str__(self):\n",
    "        return self.model"
   ]
  },
  {
   "cell_type": "code",
   "execution_count": 23,
   "id": "c42a2fcb-f4d0-4f90-8163-4b4a0f2a0062",
   "metadata": {},
   "outputs": [],
   "source": [
    "checkpoint = torch.load('model_resnet50_1_epoch.tar', weights_only=True)"
   ]
  },
  {
   "cell_type": "code",
   "execution_count": 26,
   "id": "c0a73aef-c163-4f98-beea-ddbcc5dd2ef3",
   "metadata": {},
   "outputs": [
    {
     "data": {
      "text/plain": [
       "<All keys matched successfully>"
      ]
     },
     "execution_count": 26,
     "metadata": {},
     "output_type": "execute_result"
    }
   ],
   "source": [
    "model.load_state_dict(checkpoint['model'])"
   ]
  },
  {
   "cell_type": "code",
   "execution_count": 34,
   "id": "36bc3e2a-b74d-4c3e-9ec3-3ef05d776757",
   "metadata": {},
   "outputs": [],
   "source": [
    "optimizer = optim.Adam(model.parameters(), lr=1e-4)"
   ]
  },
  {
   "cell_type": "code",
   "execution_count": 35,
   "id": "41cf7130-f753-4f89-94a0-1402b91cacdd",
   "metadata": {},
   "outputs": [],
   "source": [
    "resnet1 = Model(model, optimizer, train_loader, val_loader)"
   ]
  },
  {
   "cell_type": "code",
   "execution_count": 137,
   "id": "22d8a1c7-184c-40c8-bf50-f5b4abe1e179",
   "metadata": {},
   "outputs": [],
   "source": [
    "os.environ[\"CUDA_LAUNCH_BLOCKING\"] = \"1\""
   ]
  },
  {
   "cell_type": "code",
   "execution_count": 29,
   "id": "a11ce0a1-e343-4b4a-a567-13b5e056e840",
   "metadata": {},
   "outputs": [],
   "source": [
    "torch.cuda.empty_cache()"
   ]
  },
  {
   "cell_type": "code",
   "execution_count": 36,
   "id": "c25480f8-1fc6-45ad-9d5e-da47f40dd1d7",
   "metadata": {},
   "outputs": [
    {
     "name": "stdout",
     "output_type": "stream",
     "text": [
      "Память перед итерацией: 959.327232 MB\n"
     ]
    },
    {
     "name": "stderr",
     "output_type": "stream",
     "text": [
      "                                                                                                                       \r"
     ]
    },
    {
     "name": "stdout",
     "output_type": "stream",
     "text": [
      "Epoch [1/20] - Train Loss: 0.0201 | Val Loss: 0.0162\n",
      "Память перед итерацией: 1281.206784 MB\n"
     ]
    },
    {
     "name": "stderr",
     "output_type": "stream",
     "text": [
      "                                                                                                                       \r"
     ]
    },
    {
     "name": "stdout",
     "output_type": "stream",
     "text": [
      "Epoch [2/20] - Train Loss: 0.0115 | Val Loss: 0.0092\n",
      "Память перед итерацией: 1280.121344 MB\n"
     ]
    },
    {
     "name": "stderr",
     "output_type": "stream",
     "text": [
      "                                                                                                                       \r"
     ]
    },
    {
     "name": "stdout",
     "output_type": "stream",
     "text": [
      "Epoch [3/20] - Train Loss: 0.0094 | Val Loss: 0.0079\n",
      "Память перед итерацией: 1279.20384 MB\n"
     ]
    },
    {
     "name": "stderr",
     "output_type": "stream",
     "text": [
      "                                                                                                                       \r"
     ]
    },
    {
     "name": "stdout",
     "output_type": "stream",
     "text": [
      "Epoch [4/20] - Train Loss: 0.0081 | Val Loss: 0.0070\n",
      "Память перед итерацией: 1279.924736 MB\n"
     ]
    },
    {
     "name": "stderr",
     "output_type": "stream",
     "text": [
      "                                                                                                                       \r"
     ]
    },
    {
     "name": "stdout",
     "output_type": "stream",
     "text": [
      "Epoch [5/20] - Train Loss: 0.0065 | Val Loss: 0.0043\n",
      "Память перед итерацией: 1280.190976 MB\n"
     ]
    },
    {
     "name": "stderr",
     "output_type": "stream",
     "text": [
      "                                                                                                                       \r"
     ]
    },
    {
     "name": "stdout",
     "output_type": "stream",
     "text": [
      "Epoch [6/20] - Train Loss: 0.0050 | Val Loss: 0.0065\n",
      "Память перед итерацией: 1281.956352 MB\n"
     ]
    },
    {
     "name": "stderr",
     "output_type": "stream",
     "text": [
      "                                                                                                                       \r"
     ]
    },
    {
     "name": "stdout",
     "output_type": "stream",
     "text": [
      "Epoch [7/20] - Train Loss: 0.0052 | Val Loss: 0.0120\n",
      "Память перед итерацией: 1280.84224 MB\n"
     ]
    },
    {
     "name": "stderr",
     "output_type": "stream",
     "text": [
      "                                                                                                                       \r"
     ]
    },
    {
     "name": "stdout",
     "output_type": "stream",
     "text": [
      "Epoch [8/20] - Train Loss: 0.0050 | Val Loss: 0.0042\n",
      "Память перед итерацией: 1281.956352 MB\n"
     ]
    },
    {
     "name": "stderr",
     "output_type": "stream",
     "text": [
      "                                                                                                                       \r"
     ]
    },
    {
     "name": "stdout",
     "output_type": "stream",
     "text": [
      "Epoch [9/20] - Train Loss: 0.0036 | Val Loss: 0.0053\n",
      "Память перед итерацией: 1280.84224 MB\n"
     ]
    },
    {
     "name": "stderr",
     "output_type": "stream",
     "text": [
      "                                                                                                                       \r"
     ]
    },
    {
     "name": "stdout",
     "output_type": "stream",
     "text": [
      "Epoch [10/20] - Train Loss: 0.0040 | Val Loss: 0.0276\n",
      "Память перед итерацией: 1281.956352 MB\n"
     ]
    },
    {
     "name": "stderr",
     "output_type": "stream",
     "text": [
      "                                                                                                                       \r"
     ]
    },
    {
     "name": "stdout",
     "output_type": "stream",
     "text": [
      "Epoch [11/20] - Train Loss: 0.0036 | Val Loss: 0.0055\n",
      "Память перед итерацией: 1280.84224 MB\n"
     ]
    },
    {
     "name": "stderr",
     "output_type": "stream",
     "text": [
      "                                                                                                                       \r"
     ]
    },
    {
     "name": "stdout",
     "output_type": "stream",
     "text": [
      "Epoch [12/20] - Train Loss: 0.0033 | Val Loss: 0.0326\n",
      "Память перед итерацией: 1281.956352 MB\n"
     ]
    },
    {
     "name": "stderr",
     "output_type": "stream",
     "text": [
      "                                                                                                                       \r"
     ]
    },
    {
     "name": "stdout",
     "output_type": "stream",
     "text": [
      "Epoch [13/20] - Train Loss: 0.0030 | Val Loss: 0.0048\n",
      "Early stopping на эпохе 13. Лучшая вал. ошибка: 0.0042\n",
      "Лучшая модель загружена.\n",
      "Общее время обучения: 508.25 минут\n"
     ]
    }
   ],
   "source": [
    "resnet1.learn_NN(num_epochs=20, patience=5)"
   ]
  },
  {
   "cell_type": "code",
   "execution_count": 37,
   "id": "5690a790-6b17-47d3-9005-c8e2b9ea528b",
   "metadata": {},
   "outputs": [
    {
     "name": "stdout",
     "output_type": "stream",
     "text": [
      "Test Accuracy: 0.9984\n"
     ]
    }
   ],
   "source": [
    "resnet1.test_NN(test_loader)"
   ]
  },
  {
   "cell_type": "code",
   "execution_count": 89,
   "id": "0ad05bd0-ac05-40fe-8db4-c4a9b9213654",
   "metadata": {},
   "outputs": [],
   "source": [
    "df_control = pd.read_csv('dataset/test_1.csv')\n",
    "df_control = df_control.map(lambda x: x.replace(\"test_data_v2/\", \"\") if isinstance(x, str) else x)"
   ]
  },
  {
   "cell_type": "code",
   "execution_count": 90,
   "id": "ca19be5d-7c8f-400d-aa94-01857db7d31a",
   "metadata": {},
   "outputs": [],
   "source": [
    "df_control['label'] = None"
   ]
  },
  {
   "cell_type": "code",
   "execution_count": 91,
   "id": "be27b7d8-a414-4ca4-9404-b021059f59d2",
   "metadata": {},
   "outputs": [],
   "source": [
    "device = torch.device('cuda' if torch.cuda.is_available() else 'cpu')"
   ]
  },
  {
   "cell_type": "code",
   "execution_count": 93,
   "id": "a40e4faa-154d-4b22-8553-06f8d400323c",
   "metadata": {},
   "outputs": [],
   "source": [
    "def control_test(df: pd.DataFrame):\n",
    "    labels = []\n",
    "    \n",
    "    for idx, row in df.iterrows():\n",
    "        # Получаем путь к изображению\n",
    "        name = row['id']\n",
    "        image_path = f\"dataset/control_data/{name}\"\n",
    "        \n",
    "        # Загружаем изображение\n",
    "        image = Image.open(image_path).convert(\"RGB\")\n",
    "        \n",
    "        # Применяем преобразования\n",
    "        image = transforms(image).unsqueeze(0).to(device)\n",
    "        \n",
    "        # Прогоняем изображение через модель\n",
    "        with torch.no_grad():\n",
    "            output = resnet1.model(image)\n",
    "            prediction = torch.argmax(output, dim=1).item()\n",
    "        \n",
    "        # Сохраняем предсказание\n",
    "        labels.append(prediction)\n",
    "\n",
    "    \n",
    "    # Добавляем столбец с метками в датафрейм\n",
    "    df['label'] = labels\n",
    "    return df"
   ]
  },
  {
   "cell_type": "code",
   "execution_count": 94,
   "id": "cc16a06c-7852-450f-9118-540526335f7d",
   "metadata": {},
   "outputs": [],
   "source": [
    "df_control = control_test(df_control)"
   ]
  },
  {
   "cell_type": "code",
   "execution_count": 73,
   "id": "7a366a2c-ce9c-4e2f-a765-71cb0fa4dc86",
   "metadata": {},
   "outputs": [],
   "source": [
    "df_control1 = df_control"
   ]
  },
  {
   "cell_type": "code",
   "execution_count": 101,
   "id": "4a3a7f39-f4be-4e8c-80b0-1fe2cba4723e",
   "metadata": {},
   "outputs": [],
   "source": [
    "df_control1 = df_control1.map(lambda x: x.replace(\"test_data/\", \"\") if isinstance(x, str) else x)"
   ]
  },
  {
   "cell_type": "code",
   "execution_count": 103,
   "id": "ce056058-9e98-4f19-912b-9328d7452c6f",
   "metadata": {},
   "outputs": [],
   "source": [
    "df_control1['id'] = 'test_data_v2/' + df_control1['id']"
   ]
  },
  {
   "cell_type": "code",
   "execution_count": 104,
   "id": "ede8c318-4bc8-47ee-8789-ea9ddf7bb446",
   "metadata": {},
   "outputs": [
    {
     "data": {
      "text/html": [
       "<div>\n",
       "<style scoped>\n",
       "    .dataframe tbody tr th:only-of-type {\n",
       "        vertical-align: middle;\n",
       "    }\n",
       "\n",
       "    .dataframe tbody tr th {\n",
       "        vertical-align: top;\n",
       "    }\n",
       "\n",
       "    .dataframe thead th {\n",
       "        text-align: right;\n",
       "    }\n",
       "</style>\n",
       "<table border=\"1\" class=\"dataframe\">\n",
       "  <thead>\n",
       "    <tr style=\"text-align: right;\">\n",
       "      <th></th>\n",
       "      <th>id</th>\n",
       "      <th>label</th>\n",
       "    </tr>\n",
       "  </thead>\n",
       "  <tbody>\n",
       "    <tr>\n",
       "      <th>0</th>\n",
       "      <td>test_data_v2/1a2d9fd3e21b4266aea1f66b30aed157.jpg</td>\n",
       "      <td>0</td>\n",
       "    </tr>\n",
       "    <tr>\n",
       "      <th>1</th>\n",
       "      <td>test_data_v2/ab5df8f441fe4fbf9dc9c6baae699dc7.jpg</td>\n",
       "      <td>0</td>\n",
       "    </tr>\n",
       "    <tr>\n",
       "      <th>2</th>\n",
       "      <td>test_data_v2/eb364dd2dfe34feda0e52466b7ce7956.jpg</td>\n",
       "      <td>0</td>\n",
       "    </tr>\n",
       "    <tr>\n",
       "      <th>3</th>\n",
       "      <td>test_data_v2/f76c2580e9644d85a741a42c6f6b39c0.jpg</td>\n",
       "      <td>0</td>\n",
       "    </tr>\n",
       "    <tr>\n",
       "      <th>4</th>\n",
       "      <td>test_data_v2/a16495c578b7494683805484ca27cf9f.jpg</td>\n",
       "      <td>0</td>\n",
       "    </tr>\n",
       "    <tr>\n",
       "      <th>...</th>\n",
       "      <td>...</td>\n",
       "      <td>...</td>\n",
       "    </tr>\n",
       "    <tr>\n",
       "      <th>5535</th>\n",
       "      <td>test_data_v2/483412064ff74d9d9472d606b65976d9.jpg</td>\n",
       "      <td>0</td>\n",
       "    </tr>\n",
       "    <tr>\n",
       "      <th>5536</th>\n",
       "      <td>test_data_v2/c0b49ba4081a4197b422dac7c15aea7f.jpg</td>\n",
       "      <td>0</td>\n",
       "    </tr>\n",
       "    <tr>\n",
       "      <th>5537</th>\n",
       "      <td>test_data_v2/01454aaedec140c0a3ca1f48028c41cf.jpg</td>\n",
       "      <td>0</td>\n",
       "    </tr>\n",
       "    <tr>\n",
       "      <th>5538</th>\n",
       "      <td>test_data_v2/e9adfea8b67e4791968c4c2bdd8ec343.jpg</td>\n",
       "      <td>0</td>\n",
       "    </tr>\n",
       "    <tr>\n",
       "      <th>5539</th>\n",
       "      <td>test_data_v2/ba8f4198e8d74d3394fa56c56af23442.jpg</td>\n",
       "      <td>0</td>\n",
       "    </tr>\n",
       "  </tbody>\n",
       "</table>\n",
       "<p>5540 rows × 2 columns</p>\n",
       "</div>"
      ],
      "text/plain": [
       "                                                     id  label\n",
       "0     test_data_v2/1a2d9fd3e21b4266aea1f66b30aed157.jpg      0\n",
       "1     test_data_v2/ab5df8f441fe4fbf9dc9c6baae699dc7.jpg      0\n",
       "2     test_data_v2/eb364dd2dfe34feda0e52466b7ce7956.jpg      0\n",
       "3     test_data_v2/f76c2580e9644d85a741a42c6f6b39c0.jpg      0\n",
       "4     test_data_v2/a16495c578b7494683805484ca27cf9f.jpg      0\n",
       "...                                                 ...    ...\n",
       "5535  test_data_v2/483412064ff74d9d9472d606b65976d9.jpg      0\n",
       "5536  test_data_v2/c0b49ba4081a4197b422dac7c15aea7f.jpg      0\n",
       "5537  test_data_v2/01454aaedec140c0a3ca1f48028c41cf.jpg      0\n",
       "5538  test_data_v2/e9adfea8b67e4791968c4c2bdd8ec343.jpg      0\n",
       "5539  test_data_v2/ba8f4198e8d74d3394fa56c56af23442.jpg      0\n",
       "\n",
       "[5540 rows x 2 columns]"
      ]
     },
     "execution_count": 104,
     "metadata": {},
     "output_type": "execute_result"
    }
   ],
   "source": [
    "df_control1"
   ]
  },
  {
   "cell_type": "code",
   "execution_count": 105,
   "id": "59398602-02b5-4566-8721-370437a2d27d",
   "metadata": {},
   "outputs": [],
   "source": [
    "df_control1.to_csv(\"dataset/test.csv\", index=False)"
   ]
  },
  {
   "cell_type": "code",
   "execution_count": null,
   "id": "d0f5c56b-d814-47b8-ba4f-93870d42a674",
   "metadata": {},
   "outputs": [],
   "source": []
  }
 ],
 "metadata": {
  "kernelspec": {
   "display_name": "Python 3 (ipykernel)",
   "language": "python",
   "name": "python3"
  },
  "language_info": {
   "codemirror_mode": {
    "name": "ipython",
    "version": 3
   },
   "file_extension": ".py",
   "mimetype": "text/x-python",
   "name": "python",
   "nbconvert_exporter": "python",
   "pygments_lexer": "ipython3",
   "version": "3.12.7"
  }
 },
 "nbformat": 4,
 "nbformat_minor": 5
}
